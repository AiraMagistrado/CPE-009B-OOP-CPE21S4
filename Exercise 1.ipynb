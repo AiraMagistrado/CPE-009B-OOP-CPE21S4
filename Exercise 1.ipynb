{
  "nbformat": 4,
  "nbformat_minor": 0,
  "metadata": {
    "colab": {
      "provenance": []
    },
    "kernelspec": {
      "name": "python3",
      "display_name": "Python 3"
    },
    "language_info": {
      "name": "python"
    }
  },
  "cells": [
    {
      "cell_type": "code",
      "execution_count": 48,
      "metadata": {
        "colab": {
          "base_uri": "https://localhost:8080/"
        },
        "collapsed": true,
        "id": "i5By7FIpFYlB",
        "outputId": "d05ae752-d1ad-41c2-c232-49f3b4038a1d"
      },
      "outputs": [
        {
          "output_type": "stream",
          "name": "stdout",
          "text": [
            "My name is Ana and with an age of 19 and birthdate of January 3, 2005\n",
            "Ana\n",
            "19\n",
            "January 3, 2005\n",
            "My name is Mark and with an age of 20 and birthdate of April 7, 2004\n",
            "Mark\n",
            "20\n",
            "April 7, 2004\n",
            "My name is Mitch and with an age of 26 and birthdate of January 15, 1998\n",
            "Mitch\n",
            "26\n",
            "January 15, 1998\n"
          ]
        }
      ],
      "source": [
        "#Superclass/Parent Class constructor\n",
        "\n",
        "class Person:\n",
        "  def __init__(self,name,age,birthdate): #defining attributes and identity\n",
        "    self.name=name\n",
        "    self.age=age\n",
        "    self.birthdate=birthdate\n",
        "\n",
        "  def person_attribute(self): #method or function constructor\n",
        "    return f\"My name is {self.name} and with an age of {self.age} and birthdate of {self.birthdate}\"\n",
        "\n",
        "class Student(Person): #subclass student\n",
        "  pass\n",
        "\n",
        "class Teacher(Person): #subclass constructor\n",
        "  pass\n",
        "#object instantiation\n",
        "person = Person(\"Ana\",19, \"January 3, 2005\" ) #behavior/instance of class\n",
        "print(person.person_attribute()) #calling method\n",
        "print(person.name)\n",
        "print(person.age)\n",
        "print(person.birthdate)\n",
        "\n",
        "student = Student(\"Mark\",20,\"April 7, 2004\")\n",
        "print(student.person_attribute())\n",
        "print(student.name)\n",
        "print(student.age)\n",
        "print(student.birthdate)\n",
        "\n",
        "teacher = Teacher(\"Mitch\", 26 ,\"January 15, 1998\")\n",
        "print(teacher.person_attribute())\n",
        "print(teacher.name)\n",
        "print(teacher.age)\n",
        "print(teacher.birthdate)"
      ]
    },
    {
      "cell_type": "markdown",
      "source": [
        "# **Challenging Python Problem:**\n"
      ],
      "metadata": {
        "id": "6xuN86RXS9O9"
      }
    },
    {
      "cell_type": "markdown",
      "source": [
        "Create a python program that has the following:\n",
        "1. Super class named as Shapes\n",
        "2. Sub classes: Rectangle, Square\n",
        "3. Methods: Perimeter(), Area()\n",
        "4. Object name: rectangle, square\n",
        "5. Inherits the attributes of super class Shapes\n",
        "self.side = side\n"
      ],
      "metadata": {
        "id": "Ze0Vn7-vTZtL"
      }
    },
    {
      "cell_type": "code",
      "source": [
        "class Shapes:\n",
        "  def __init__(self,length, width,side):\n",
        "    self.length = length\n",
        "    self.width = width\n",
        "    self.side = side\n",
        "\n",
        "    def Perimeter(self):\n",
        "      pass\n",
        "    def Area(self):\n",
        "      pass\n",
        "\n",
        "  def Shapes_attribute(self):\n",
        "    return f\"Has a Length {self.length} and width of {self.width} and side of {self.side}\"\n",
        "\n",
        "class Rectangle(Shapes):\n",
        "  def Perimeter_rectangle(self):\n",
        "    return 2*(self.length + self.width)\n",
        "\n",
        "  def Area_rectangle(self):\n",
        "    return self.length*self.width\n",
        "\n",
        "class Square(Shapes):\n",
        "  def Perimeter_square(self):\n",
        "    return 4*self.side\n",
        "\n",
        "  def Area_square(self):\n",
        "    return self.side**2\n",
        "\n",
        "rectangle = Rectangle(4,5,0)\n",
        "print(\"The perimeter of the rectangle is\",rectangle.Perimeter_rectangle())\n",
        "print(\"The area of the rectangle is\", rectangle.Area_rectangle())\n",
        "print(rectangle.Shapes_attribute())\n",
        "\n",
        "square = Square(0,0,4)\n",
        "print(\"The perimeter of the square is:\", square.Perimeter_square())\n",
        "print(\"The area of the square is:\", square.Area_square())\n",
        "print(square.Shapes_attribute())"
      ],
      "metadata": {
        "colab": {
          "base_uri": "https://localhost:8080/"
        },
        "id": "BT6jTQ4cQEUz",
        "outputId": "2e0281a0-5b8c-44b7-c568-f8df52c63489"
      },
      "execution_count": 50,
      "outputs": [
        {
          "output_type": "stream",
          "name": "stdout",
          "text": [
            "The perimeter of the rectangle is 18\n",
            "The area of the rectangle is 20\n",
            "Length 4 and width of 5 and side of 0\n",
            "The perimeter of the square is: 16\n",
            "The area of the square is: 16\n",
            "Length 0 and width of 0 and side of 4\n"
          ]
        }
      ]
    }
  ]
}
