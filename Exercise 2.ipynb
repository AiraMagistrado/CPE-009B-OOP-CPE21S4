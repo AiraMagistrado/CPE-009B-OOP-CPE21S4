{
  "nbformat": 4,
  "nbformat_minor": 0,
  "metadata": {
    "colab": {
      "provenance": []
    },
    "kernelspec": {
      "name": "python3",
      "display_name": "Python 3"
    },
    "language_info": {
      "name": "python"
    }
  },
  "cells": [
    {
      "cell_type": "markdown",
      "source": [
        "# **Exercise 2**"
      ],
      "metadata": {
        "id": "QuclR_WsfN-n"
      }
    },
    {
      "cell_type": "markdown",
      "source": [
        "**Example 1**"
      ],
      "metadata": {
        "id": "RgLzTFEJfQYz"
      }
    },
    {
      "cell_type": "code",
      "execution_count": 6,
      "metadata": {
        "colab": {
          "base_uri": "https://localhost:8080/"
        },
        "id": "D4iPRhEdXEB_",
        "outputId": "6845f410-4f89-4cd3-a20d-bf035a6938cd"
      },
      "outputs": [
        {
          "output_type": "execute_result",
          "data": {
            "text/plain": [
              "7"
            ]
          },
          "metadata": {},
          "execution_count": 6
        }
      ],
      "source": [
        "class foo:\n",
        "    def __init__(self,a,b):\n",
        "        self.a=a\n",
        "        self.b=b\n",
        "    def add(self):\n",
        "        return self.a + self.b\n",
        "\n",
        "foo_object=foo(3,4)\n",
        "foo_object.add()"
      ]
    },
    {
      "cell_type": "code",
      "source": [
        "class foo:\n",
        "    def __init__(self,a,b):\n",
        "        self.a=a\n",
        "        self.b=b\n",
        "    def add(self):\n",
        "        return self.a + self.b\n",
        "\n",
        "#main\n",
        "foo_object=foo(3,4)\n",
        "print(\"foo a =\", foo_object.a)\n",
        "print(\"foo b =\", foo_object.b)\n",
        "print(\"Sum =\", foo_object.add())\n",
        "\n",
        "foo_a = 3\n",
        "foo_b = 4\n",
        "Sum = 7"
      ],
      "metadata": {
        "colab": {
          "base_uri": "https://localhost:8080/"
        },
        "id": "CWxwqDnAawsN",
        "outputId": "8f1bbed6-27cb-46c2-c888-a5738f5e4cef"
      },
      "execution_count": 8,
      "outputs": [
        {
          "output_type": "stream",
          "name": "stdout",
          "text": [
            "foo a = 3\n",
            "foo b = 4\n",
            "Sum = 7\n"
          ]
        }
      ]
    },
    {
      "cell_type": "markdown",
      "source": [
        "# **Example 2**"
      ],
      "metadata": {
        "id": "-678mngMfLkU"
      }
    },
    {
      "cell_type": "markdown",
      "source": [
        "- Complete the program by adding object name and\n",
        "- print output variable that display the instance/behavior of every function\n",
        "- Apply encapsulation by typing _ single underscore for private variable"
      ],
      "metadata": {
        "id": "fhGsvhULfaMz"
      }
    },
    {
      "cell_type": "code",
      "source": [
        "class Counter:\n",
        "  def __init__(self):\n",
        "    self._current = 0\n",
        "\n",
        "  def increment(self):\n",
        "    self._current +=1\n",
        "    return self._current\n",
        "\n",
        "  def value(self):\n",
        "      return self._current\n",
        "\n",
        "  def reset(self):\n",
        "    self._current = 0\n",
        "\n",
        "count = Counter()\n",
        "print(count._current)\n",
        "print(count.increment())\n",
        "print(count.value())\n",
        "print(count.reset())\n",
        "\n",
        "my_obj.reset()\n",
        "print(\"Value after reset:\", my_obj.value())"
      ],
      "metadata": {
        "colab": {
          "base_uri": "https://localhost:8080/"
        },
        "id": "8dK0_Z3Vfmx5",
        "outputId": "bc7ff147-0756-486e-937f-e5073881a977"
      },
      "execution_count": 16,
      "outputs": [
        {
          "output_type": "stream",
          "name": "stdout",
          "text": [
            "0\n",
            "1\n",
            "1\n",
            "None\n",
            "Value after reset: 0\n"
          ]
        }
      ]
    }
  ]
}
